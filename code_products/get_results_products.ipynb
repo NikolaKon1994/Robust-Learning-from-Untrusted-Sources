{
 "cells": [
  {
   "cell_type": "markdown",
   "metadata": {},
   "source": [
    "# Generating the plots and statistics from the Amazon Products experiment"
   ]
  },
  {
   "cell_type": "code",
   "execution_count": 1,
   "metadata": {
    "collapsed": true
   },
   "outputs": [],
   "source": [
    "import matplotlib.pyplot as plt\n",
    "import numpy as np\n",
    "from matplotlib.ticker import FormatStrFormatter"
   ]
  },
  {
   "cell_type": "markdown",
   "metadata": {},
   "source": [
    "# Experiment on books and non-books"
   ]
  },
  {
   "cell_type": "code",
   "execution_count": 3,
   "metadata": {
    "collapsed": true
   },
   "outputs": [],
   "source": [
    "folder = 'path/to/results/'\n",
    "\n",
    "attack_type = 'none'\n",
    "sigma = 0\n",
    "p = 0\n",
    "\n",
    "poss_n = np.arange(11)\n",
    "\n",
    "errs = np.zeros([len(poss_n),1000])\n",
    "errs_zero = np.zeros([len(poss_n),1000])\n",
    "errs_inf = np.zeros([len(poss_n),1000])\n",
    "errs_robust_log_regr_soft = np.zeros([len(poss_n),1000])\n",
    "errs_robust_probs = np.zeros([len(poss_n),1000])\n",
    "errs_geometric_median = np.zeros([len(poss_n),1000])\n",
    "errs_component_median = np.zeros([len(poss_n),1000])\n",
    "errs_batch_norm = np.zeros([len(poss_n),1000])\n",
    "\n",
    "\n",
    "for l, n in enumerate(poss_n):\n",
    "    \n",
    "    for i in range(1000):\n",
    "        errs_zero[l,i] = np.load(folder + 'errs_zero_' + attack_type \\\n",
    "                           + '_' + str(sigma)+ '_' + str(n) + '_' + str(p) + '_' + str(i) + '.npy')\n",
    "        errs[l,i] = np.load(folder + 'errs_' + attack_type \\\n",
    "                            + '_' + str(sigma)+ '_' + str(n) + '_' + str(p) + '_' + str(i) + '.npy')\n",
    "        errs_inf[l,i] = np.load(folder + 'errs_inf_' + attack_type \\\n",
    "                      + '_' + str(sigma)+ '_' + str(n) + '_' + str(p) + '_' + str(i) + '.npy')\n",
    "        errs_robust_log_regr_soft[l,i] = np.load(folder + 'errs_robust_log_regr_soft_' + attack_type \\\n",
    "                      + '_' + str(sigma)+ '_' + str(n) + '_' + str(p) + '_' + str(i) + '.npy')\n",
    "        errs_robust_probs[l,i] = np.load(folder + 'errs_robust_probs_' + attack_type \\\n",
    "                      + '_' + str(sigma)+ '_' + str(n) + '_' + str(p) + '_' + str(i) + '.npy')\n",
    "        errs_geometric_median[l,i] = np.load(folder + 'errs_geometric_median_' + attack_type \\\n",
    "                      + '_' + str(sigma)+ '_' + str(n) + '_' + str(p) + '_' + str(i) + '.npy')\n",
    "        errs_component_median[l,i] = np.load(folder + 'errs_component_median_' + attack_type \\\n",
    "                      + '_' + str(sigma)+ '_' + str(n) + '_' + str(p) + '_' + str(i) + '.npy')\n",
    "        errs_batch_norm[l,i] = np.load(folder + 'errs_batch_norm_' + attack_type \\\n",
    "                      + '_' + str(sigma)+ '_' + str(n) + '_' + str(p) + '_' + str(i) + '.npy')\n",
    "\n",
    "\n",
    "# Estimates for the mean\n",
    "means_vec = np.mean(errs, axis = 1)\n",
    "means_vec_zero = np.mean(errs_zero, axis = 1)\n",
    "means_vec_inf = np.mean(errs_inf, axis = 1)\n",
    "means_vec_robust_log_regr_soft = np.mean(errs_robust_log_regr_soft, axis = 1)\n",
    "means_vec_robust_probs = np.mean(errs_robust_probs, axis = 1)\n",
    "means_vec_geometric_median = np.mean(errs_geometric_median, axis = 1)\n",
    "means_vec_component_median = np.mean(errs_component_median, axis = 1)\n",
    "means_vec_batch_norm = np.mean(errs_batch_norm, axis = 1)\n",
    "\n",
    "# Estimates for the standard error\n",
    "stds_vec = np.std(errs, axis = 1)/np.sqrt(1000)\n",
    "stds_vec_zero = np.std(errs_zero, axis = 1)/np.sqrt(1000)\n",
    "stds_vec_inf = np.std(errs_inf, axis = 1)/np.sqrt(1000)\n",
    "stds_vec_robust_log_regr_soft = np.std(errs_robust_log_regr_soft, axis = 1)/np.sqrt(1000)\n",
    "stds_vec_robust_probs = np.std(errs_robust_probs, axis = 1)/np.sqrt(1000)\n",
    "stds_vec_geometric_median = np.std(errs_geometric_median, axis = 1)/np.sqrt(1000)\n",
    "stds_vec_component_median = np.std(errs_component_median, axis = 1)/np.sqrt(1000)\n",
    "stds_vec_batch_norm = np.std(errs_batch_norm, axis = 1)/np.sqrt(1000)"
   ]
  },
  {
   "cell_type": "code",
   "execution_count": null,
   "metadata": {
    "scrolled": true
   },
   "outputs": [],
   "source": [
    "\n",
    "plt.figure(figsize=(12,9))\n",
    "#plt.style.use('ggplot')\n",
    "plt.errorbar(x = poss_n, y = means_vec, yerr = stds_vec, color = 'green', label = 'Ours', linewidth=5)\n",
    "plt.errorbar(x = poss_n, y = means_vec_zero, yerr = stds_vec_zero, color = 'red', label = 'Reference only')\n",
    "plt.errorbar(x = poss_n, y = means_vec_inf, yerr = stds_vec_inf, color = 'blue', label = 'All data')\n",
    "#plt.errorbar(x = poss_n, y = means_vec_robust_log_regr_soft, yerr = stds_vec_robust_log_regr_soft, color = 'pink', label = 'Pregibon et al.')\n",
    "plt.errorbar(x = poss_n, y = means_vec_robust_probs, yerr = stds_vec_robust_probs, color = 'black', label = 'Median of probs')\n",
    "plt.errorbar(x = poss_n, y = means_vec_geometric_median, yerr = stds_vec_geometric_median, color = 'grey', label = 'Feng et al.')\n",
    "#plt.errorbar(x = poss_n, y = means_vec_component_median, yerr = stds_vec_component_median, color = 'purple', label = 'Yin et al.')\n",
    "plt.errorbar(x = poss_n, y = means_vec_batch_norm, yerr = stds_vec_batch_norm, color = 'magenta', label = 'Batch norm')\n",
    "\n",
    "\n",
    "\n",
    "plt.legend(loc = 2, fontsize = 24)\n",
    "plt.xticks(fontsize = 18)\n",
    "plt.yticks(fontsize = 18)\n",
    "plt.xlabel('Number of corrupted tasks', fontsize = 30)\n",
    "plt.ylabel('Average classification error', fontsize = 30)\n",
    "\n",
    "ax=plt.gca()\n",
    "ax.yaxis.set_major_formatter(FormatStrFormatter('%.2f'))\n",
    "ax.set_facecolor('xkcd:white')\n",
    "ax.spines['right'].set_visible(False)\n",
    "ax.spines['top'].set_visible(False)\n",
    "ax.spines['bottom'].set_linewidth(2)\n",
    "ax.spines['left'].set_linewidth(2)\n",
    "plt.savefig(\"main_plot.pdf\")\n",
    "plt.show()"
   ]
  },
  {
   "cell_type": "code",
   "execution_count": 4,
   "metadata": {},
   "outputs": [
    {
     "data": {
      "text/plain": [
       "array([ 0.34844 ,  0.348968,  0.348468,  0.349368,  0.352994,  0.355896,\n",
       "        0.359308,  0.35706 ,  0.36429 ,  0.368   ,  0.372504])"
      ]
     },
     "execution_count": 4,
     "metadata": {},
     "output_type": "execute_result"
    }
   ],
   "source": [
    "means_vec_robust_log_regr_soft"
   ]
  },
  {
   "cell_type": "code",
   "execution_count": 5,
   "metadata": {},
   "outputs": [
    {
     "data": {
      "text/plain": [
       "array([ 0.338938,  0.339674,  0.345762,  0.349246,  0.349694,  0.36089 ,\n",
       "        0.35618 ,  0.360896,  0.368314,  0.36727 ,  0.375536])"
      ]
     },
     "execution_count": 5,
     "metadata": {},
     "output_type": "execute_result"
    }
   ],
   "source": [
    "means_vec_component_median"
   ]
  },
  {
   "cell_type": "markdown",
   "metadata": {},
   "source": [
    "# Experiment on all products"
   ]
  },
  {
   "cell_type": "code",
   "execution_count": 2,
   "metadata": {
    "collapsed": true
   },
   "outputs": [],
   "source": [
    "folder = 'path/to/results/'\n",
    "\n",
    "n = 0\n",
    "p = 0\n",
    "sigma = 0\n",
    "attack_type = 'none'\n",
    "\n",
    "errs = np.zeros([957])\n",
    "errs_zero = np.zeros([957])\n",
    "errs_inf = np.zeros([957])\n",
    "errs_robust_log_regr_soft = np.zeros([957])\n",
    "errs_robust_probs = np.zeros([957])\n",
    "errs_geometric_median = np.zeros([957])\n",
    "errs_component_median = np.zeros([957])\n",
    "errs_batch_norm = np.zeros([957])\n",
    "\n",
    "\n",
    "for i in range(957):\n",
    "    errs_zero[i] = np.load(folder + 'errs_zero_' + attack_type \\\n",
    "                       + '_' + str(sigma)+ '_' + str(n) + '_' + str(p) + '_' + str(i) + '.npy')\n",
    "    errs[i] = np.load(folder + 'errs_' + attack_type \\\n",
    "                        + '_' + str(sigma)+ '_' + str(n) + '_' + str(p) + '_' + str(i) + '.npy')\n",
    "    errs_inf[i] = np.load(folder + 'errs_inf_' + attack_type \\\n",
    "                  + '_' + str(sigma)+ '_' + str(n) + '_' + str(p) + '_' + str(i) + '.npy')\n",
    "    errs_robust_log_regr_soft[i] = np.load(folder + 'errs_robust_log_regr_soft_' + attack_type \\\n",
    "                  + '_' + str(sigma)+ '_' + str(n) + '_' + str(p) + '_' + str(i) + '.npy')\n",
    "    errs_robust_probs[i] = np.load(folder + 'errs_robust_probs_' + attack_type \\\n",
    "                  + '_' + str(sigma)+ '_' + str(n) + '_' + str(p) + '_' + str(i) + '.npy')\n",
    "    errs_geometric_median[i] = np.load(folder + 'errs_geometric_median_' + attack_type \\\n",
    "                  + '_' + str(sigma)+ '_' + str(n) + '_' + str(p) + '_' + str(i) + '.npy')\n",
    "    errs_component_median[i] = np.load(folder + 'errs_component_median_' + attack_type \\\n",
    "                  + '_' + str(sigma)+ '_' + str(n) + '_' + str(p) + '_' + str(i) + '.npy')\n",
    "    errs_batch_norm[i] = np.load(folder + 'errs_batch_norm_' + attack_type \\\n",
    "                  + '_' + str(sigma)+ '_' + str(n) + '_' + str(p) + '_' + str(i) + '.npy')"
   ]
  },
  {
   "cell_type": "code",
   "execution_count": 3,
   "metadata": {},
   "outputs": [
    {
     "name": "stdout",
     "output_type": "stream",
     "text": [
      "0.289467084639 0.0016922700716\n"
     ]
    }
   ],
   "source": [
    "print(np.mean(errs), np.std(errs)/np.sqrt(957))"
   ]
  },
  {
   "cell_type": "code",
   "execution_count": 4,
   "metadata": {},
   "outputs": [
    {
     "name": "stdout",
     "output_type": "stream",
     "text": [
      "0.301638453501 0.00190621243192\n"
     ]
    }
   ],
   "source": [
    "print(np.mean(errs_zero), np.std(errs_zero)/np.sqrt(957))"
   ]
  },
  {
   "cell_type": "code",
   "execution_count": 5,
   "metadata": {},
   "outputs": [
    {
     "name": "stdout",
     "output_type": "stream",
     "text": [
      "0.312386624869 0.00171936419935\n"
     ]
    }
   ],
   "source": [
    "print(np.mean(errs_inf), np.std(errs_inf)/np.sqrt(957))"
   ]
  },
  {
   "cell_type": "code",
   "execution_count": 6,
   "metadata": {},
   "outputs": [
    {
     "name": "stdout",
     "output_type": "stream",
     "text": [
      "0.32542737722 0.00211215442985\n"
     ]
    }
   ],
   "source": [
    "print(np.mean(errs_robust_probs), np.std(errs_robust_probs)/np.sqrt(957))"
   ]
  },
  {
   "cell_type": "code",
   "execution_count": 7,
   "metadata": {},
   "outputs": [
    {
     "name": "stdout",
     "output_type": "stream",
     "text": [
      "0.329306165099 0.00215873036317\n"
     ]
    }
   ],
   "source": [
    "print(np.mean(errs_geometric_median), np.std(errs_geometric_median)/np.sqrt(957))"
   ]
  },
  {
   "cell_type": "code",
   "execution_count": 8,
   "metadata": {},
   "outputs": [
    {
     "name": "stdout",
     "output_type": "stream",
     "text": [
      "0.32931661442 0.00213565637341\n"
     ]
    }
   ],
   "source": [
    "print(np.mean(errs_component_median), np.std(errs_component_median)/np.sqrt(957))"
   ]
  },
  {
   "cell_type": "code",
   "execution_count": 9,
   "metadata": {},
   "outputs": [
    {
     "name": "stdout",
     "output_type": "stream",
     "text": [
      "0.353147335423 0.00210477860595\n"
     ]
    }
   ],
   "source": [
    "print(np.mean(errs_robust_log_regr_soft), np.std(errs_robust_log_regr_soft)/np.sqrt(957))"
   ]
  },
  {
   "cell_type": "code",
   "execution_count": 10,
   "metadata": {},
   "outputs": [
    {
     "name": "stdout",
     "output_type": "stream",
     "text": [
      "0.298890282132 0.00167913317935\n"
     ]
    }
   ],
   "source": [
    "print(np.mean(errs_batch_norm), np.std(errs_batch_norm)/np.sqrt(957))"
   ]
  }
 ],
 "metadata": {
  "kernelspec": {
   "display_name": "Python 3",
   "language": "python",
   "name": "python3"
  },
  "language_info": {
   "codemirror_mode": {
    "name": "ipython",
    "version": 3
   },
   "file_extension": ".py",
   "mimetype": "text/x-python",
   "name": "python",
   "nbconvert_exporter": "python",
   "pygments_lexer": "ipython3",
   "version": "3.6.8"
  }
 },
 "nbformat": 4,
 "nbformat_minor": 2
}
